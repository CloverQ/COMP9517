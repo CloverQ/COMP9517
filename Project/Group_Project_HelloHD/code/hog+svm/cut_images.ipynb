{
 "cells": [
  {
   "cell_type": "code",
   "execution_count": 1,
   "id": "e5ee348a",
   "metadata": {},
   "outputs": [],
   "source": [
    "import numpy as np\n",
    "from tqdm.notebook import tqdm\n",
    "tqdm.pandas()\n",
    "import pandas as pd\n",
    "import os\n",
    "import cv2\n",
    "import matplotlib.pyplot as plt\n",
    "import glob\n",
    "import shutil\n",
    "import sys\n",
    "sys.path.append('../input/tensorflow-great-barrier-reef')\n",
    "from joblib import Parallel, delayed\n",
    "from IPython.display import display, HTML\n",
    "from matplotlib import animation, rc\n",
    "rc('animation', html='jshtml')\n",
    "# for DA\n",
    "from torch.utils.data import DataLoader, Dataset\n",
    "import torch.utils.data as Data\n",
    "import ast #?\n",
    "from fastprogress.fastprogress import master_bar, progress_bar #?"
   ]
  },
  {
   "cell_type": "code",
   "execution_count": 2,
   "id": "12289c65",
   "metadata": {},
   "outputs": [],
   "source": [
    "def remove_file(old_path, new_path):\n",
    "    filelist = os.listdir(old_path)\n",
    "    cnt = 0\n",
    "    for file in filelist:\n",
    "        src = os.path.join(old_path, file)\n",
    "        dst = os.path.join(new_path, file)\n",
    "        shutil.copyfile(src, dst)\n",
    "        cnt += 1\n",
    "        if cnt == 4700:\n",
    "            break\n"
   ]
  },
  {
   "cell_type": "code",
   "execution_count": 3,
   "id": "24466aae",
   "metadata": {},
   "outputs": [
    {
     "data": {
      "application/vnd.jupyter.widget-view+json": {
       "model_id": "18abde14b4284261a11ce847a3a706a5",
       "version_major": 2,
       "version_minor": 0
      },
      "text/plain": [
       "  0%|          | 0/23501 [00:00<?, ?it/s]"
      ]
     },
     "metadata": {},
     "output_type": "display_data"
    }
   ],
   "source": [
    "df = pd.read_csv('great-barrier-reef/train.csv')\n",
    "df['old_image_path'] = f'great-barrier-reef/train_images/video_'+df.video_id.astype(str)+'/'+df.video_frame.astype(str)+'.jpg'\n",
    "df['image_path']  = f'images/all_img/'+df.image_id+'.jpg' # '/kaggle/working/images'\n",
    "df['label_path']  = f'images/all_label/'+df.image_id+'.txt' # '/kaggle/working/labels'\n",
    "df['annotations'] = df['annotations'].progress_apply(eval)"
   ]
  },
  {
   "cell_type": "code",
   "execution_count": 4,
   "id": "f0ccc5f7",
   "metadata": {},
   "outputs": [
    {
     "data": {
      "application/vnd.jupyter.widget-view+json": {
       "model_id": "23770bcced464ed5aecbce0289037342",
       "version_major": 2,
       "version_minor": 0
      },
      "text/plain": [
       "  0%|          | 0/23501 [00:00<?, ?it/s]"
      ]
     },
     "metadata": {},
     "output_type": "display_data"
    }
   ],
   "source": [
    "def make_copy(row):\n",
    "    shutil.copyfile(row.old_image_path, row.image_path)\n",
    "    return\n",
    "image_paths = df.old_image_path.tolist()\n",
    "_ = Parallel(n_jobs=-1, backend='threading')(delayed(make_copy)(row) for _, row in tqdm(df.iterrows(), total=len(df)))\n",
    "\n",
    "remove_file('images/all_img', 'images/test')"
   ]
  },
  {
   "cell_type": "code",
   "execution_count": 5,
   "id": "dd59a6c2",
   "metadata": {},
   "outputs": [],
   "source": [
    "for i in range(0, 18800):\n",
    "    img = cv2.imread(df.iloc[i]['image_path'])\n",
    "    img_rgb = cv2.cvtColor(img, cv2.COLOR_BGR2RGB)\n",
    "    empty = []\n",
    "    if df.iloc[i]['annotations'] != empty:\n",
    "        y0 = df.iloc[i]['annotations'][0]['y']\n",
    "        x0 = df.iloc[i]['annotations'][0]['x']\n",
    "        y1 = y0 + df.iloc[i]['annotations'][0]['height']\n",
    "        x1 = x0 + df.iloc[i]['annotations'][0]['width']\n",
    "        cropped = img_rgb[y0:y1, x0:x1]\n",
    "        crop_neg = img_rgb[0: 100, 0:100]\n",
    "#         print(df.iloc[i]['image_path'])\n",
    "        if cropped.any(): \n",
    "            cropped = cv2.cvtColor(cropped, cv2.COLOR_BGR2RGB)\n",
    "            pos_name = \"images/train/pos/\" + df.iloc[i]['image_path'][15:]\n",
    "            cv2.imwrite(pos_name, cropped)\n",
    "        if crop_neg.any():\n",
    "            crop_neg = cv2.cvtColor(crop_neg, cv2.COLOR_BGR2RGB)\n",
    "            neg_name = \"images/train/neg/\" + df.iloc[i]['image_path'][15:]\n",
    "            cv2.imwrite(neg_name, crop_neg)"
   ]
  },
  {
   "cell_type": "code",
   "execution_count": 6,
   "id": "0be67ded",
   "metadata": {},
   "outputs": [],
   "source": [
    "leng, tmp = df.shape\n",
    "for j in range(18801, leng):\n",
    "#     print(df.iloc[i])\n",
    "    img_ = cv2.imread(df.iloc[j]['image_path'])\n",
    "    img_name = \"images/test/\" + df.iloc[j]['image_path'][15:]\n",
    "    cv2.imwrite(img_name, img_)"
   ]
  },
  {
   "cell_type": "code",
   "execution_count": null,
   "id": "c6378f78",
   "metadata": {},
   "outputs": [],
   "source": []
  },
  {
   "cell_type": "code",
   "execution_count": null,
   "id": "4b6c38eb",
   "metadata": {},
   "outputs": [],
   "source": []
  }
 ],
 "metadata": {
  "kernelspec": {
   "display_name": "Python 3",
   "language": "python",
   "name": "python3"
  },
  "language_info": {
   "codemirror_mode": {
    "name": "ipython",
    "version": 3
   },
   "file_extension": ".py",
   "mimetype": "text/x-python",
   "name": "python",
   "nbconvert_exporter": "python",
   "pygments_lexer": "ipython3",
   "version": "3.8.8"
  }
 },
 "nbformat": 4,
 "nbformat_minor": 5
}
