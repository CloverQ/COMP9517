{
 "cells": [
  {
   "cell_type": "code",
   "execution_count": 1,
   "id": "36a23dd0",
   "metadata": {},
   "outputs": [],
   "source": [
    "from skimage.feature import hog\n",
    "from skimage.transform import pyramid_gaussian\n",
    "from skimage.io import imread\n",
    "from matplotlib import pyplot as plt\n",
    "import joblib\n",
    "from sklearn.preprocessing import LabelEncoder\n",
    "from sklearn.svm import LinearSVC\n",
    "from sklearn.metrics import classification_report, confusion_matrix, accuracy_score, precision_score, recall_score\n",
    "from sklearn.model_selection import train_test_split\n",
    "from skimage import color\n",
    "from imutils.object_detection import non_max_suppression\n",
    "import imutils\n",
    "import numpy as np\n",
    "import argparse\n",
    "import cv2\n",
    "import os\n",
    "import glob\n",
    "from PIL import Image\n",
    "from numpy import *"
   ]
  },
  {
   "cell_type": "code",
   "execution_count": 2,
   "id": "5e9d840d",
   "metadata": {},
   "outputs": [],
   "source": [
    "pos_path = r\"images\\train\\pos\"\n",
    "neg_path= r\"images\\train\\neg\""
   ]
  },
  {
   "cell_type": "code",
   "execution_count": 3,
   "id": "34f197d0",
   "metadata": {},
   "outputs": [
    {
     "data": {
      "text/plain": [
       "(4256, 4256)"
      ]
     },
     "execution_count": 3,
     "metadata": {},
     "output_type": "execute_result"
    }
   ],
   "source": [
    "pos_list = os.listdir(pos_path)\n",
    "neg_list = os.listdir(neg_path)\n",
    "num_pos = size(pos_list)\n",
    "num_neg = size(neg_list)\n",
    "num_pos, num_neg"
   ]
  },
  {
   "cell_type": "code",
   "execution_count": 4,
   "id": "06a94d46",
   "metadata": {},
   "outputs": [],
   "source": [
    "orientations = 9\n",
    "pixels_per_cell = (16, 16)\n",
    "cells_per_block = (1, 1)\n",
    "threshold = .3"
   ]
  },
  {
   "cell_type": "markdown",
   "id": "254a359c",
   "metadata": {},
   "source": [
    "#### get hog feather"
   ]
  },
  {
   "cell_type": "code",
   "execution_count": 5,
   "id": "0714ca21",
   "metadata": {},
   "outputs": [],
   "source": [
    "data = []\n",
    "labels = []\n",
    "for file in pos_list:\n",
    "    img = Image.open(pos_path + '\\\\' + file)\n",
    "    img = img.resize((100,100))\n",
    "    gray = img.convert('L')\n",
    "    fd = hog(gray, orientations, pixels_per_cell, cells_per_block, block_norm='L2', feature_vector=True)# fd= feature descriptor\n",
    "    data.append(fd)\n",
    "    labels.append(1)\n",
    "for file in neg_list:\n",
    "    img= Image.open(neg_path + '\\\\' + file)\n",
    "    img = img.resize((100,100))\n",
    "    gray= img.convert('L')\n",
    "    fd = hog(gray, orientations, pixels_per_cell, cells_per_block, block_norm='L2', feature_vector=True)\n",
    "    data.append(fd)\n",
    "    labels.append(0)"
   ]
  },
  {
   "cell_type": "code",
   "execution_count": 6,
   "id": "d9355915",
   "metadata": {},
   "outputs": [],
   "source": [
    "le = LabelEncoder()\n",
    "labels = le.fit_transform(labels)"
   ]
  },
  {
   "cell_type": "markdown",
   "id": "fca46b39",
   "metadata": {},
   "source": [
    "#### split train set"
   ]
  },
  {
   "cell_type": "code",
   "execution_count": 7,
   "id": "04079646",
   "metadata": {},
   "outputs": [],
   "source": [
    "(trainData, testData, trainLabels, testLabels) = train_test_split(np.array(data), labels, test_size=0.2, random_state=42)"
   ]
  },
  {
   "cell_type": "markdown",
   "id": "e0d2d945",
   "metadata": {},
   "source": [
    "#### train using SVM"
   ]
  },
  {
   "cell_type": "code",
   "execution_count": 8,
   "id": "c95fbcbf",
   "metadata": {},
   "outputs": [
    {
     "data": {
      "text/plain": [
       "LinearSVC()"
      ]
     },
     "execution_count": 8,
     "metadata": {},
     "output_type": "execute_result"
    }
   ],
   "source": [
    "model = LinearSVC()\n",
    "model.fit(trainData, trainLabels)"
   ]
  },
  {
   "cell_type": "code",
   "execution_count": 9,
   "id": "b2f82c78",
   "metadata": {},
   "outputs": [
    {
     "name": "stdout",
     "output_type": "stream",
     "text": [
      "              precision    recall  f1-score   support\n",
      "\n",
      "           0       0.96      0.96      0.96       864\n",
      "           1       0.96      0.96      0.96       839\n",
      "\n",
      "    accuracy                           0.96      1703\n",
      "   macro avg       0.96      0.96      0.96      1703\n",
      "weighted avg       0.96      0.96      0.96      1703\n",
      "\n"
     ]
    }
   ],
   "source": [
    "predictions = model.predict(testData)\n",
    "print(classification_report(testLabels, predictions))"
   ]
  },
  {
   "cell_type": "code",
   "execution_count": 10,
   "id": "ab069080",
   "metadata": {},
   "outputs": [
    {
     "data": {
      "text/plain": [
       "array([[832,  32],\n",
       "       [ 33, 806]], dtype=int64)"
      ]
     },
     "execution_count": 10,
     "metadata": {},
     "output_type": "execute_result"
    }
   ],
   "source": [
    "cnf = confusion_matrix(testLabels, predictions, labels=[0,1])\n",
    "cnf"
   ]
  },
  {
   "cell_type": "code",
   "execution_count": 11,
   "id": "153ee501",
   "metadata": {},
   "outputs": [
    {
     "name": "stdout",
     "output_type": "stream",
     "text": [
      "Acc:  0.9618320610687023\n",
      "Precision:  0.9618317767323796\n",
      "Recall:  0.9618152121131859\n"
     ]
    }
   ],
   "source": [
    "acc = accuracy_score(testLabels, predictions)\n",
    "precision = precision_score(testLabels, predictions, average='macro')\n",
    "recall = recall_score(testLabels, predictions, average='macro')\n",
    "print(\"Acc: \", acc)\n",
    "print(\"Precision: \", precision)\n",
    "print(\"Recall: \", recall)"
   ]
  },
  {
   "cell_type": "markdown",
   "id": "d993758a",
   "metadata": {},
   "source": [
    "#### F2 score"
   ]
  },
  {
   "cell_type": "code",
   "execution_count": 13,
   "id": "a0748af2",
   "metadata": {},
   "outputs": [
    {
     "name": "stdout",
     "output_type": "stream",
     "text": [
      "F2 Score:  0.5453315290933695\n"
     ]
    }
   ],
   "source": [
    "FN = cnf[0][0]\n",
    "FP = cnf[0][1]\n",
    "TN = cnf[1][0]\n",
    "TP = cnf[1][1]\n",
    "f2_score = ((1+4)*TP) / ((1+4)*TP + 4*FN + FP)\n",
    "print(\"F2 Score: \", f2_score)"
   ]
  },
  {
   "cell_type": "markdown",
   "id": "6126f10a",
   "metadata": {},
   "source": [
    "#### save model"
   ]
  },
  {
   "cell_type": "code",
   "execution_count": 14,
   "id": "93269966",
   "metadata": {},
   "outputs": [
    {
     "data": {
      "text/plain": [
       "['svm.npy']"
      ]
     },
     "execution_count": 14,
     "metadata": {},
     "output_type": "execute_result"
    }
   ],
   "source": [
    "joblib.dump(model, 'svm.npy')"
   ]
  },
  {
   "cell_type": "code",
   "execution_count": null,
   "id": "e6e1828e",
   "metadata": {},
   "outputs": [],
   "source": []
  }
 ],
 "metadata": {
  "kernelspec": {
   "display_name": "Python 3",
   "language": "python",
   "name": "python3"
  },
  "language_info": {
   "codemirror_mode": {
    "name": "ipython",
    "version": 3
   },
   "file_extension": ".py",
   "mimetype": "text/x-python",
   "name": "python",
   "nbconvert_exporter": "python",
   "pygments_lexer": "ipython3",
   "version": "3.8.8"
  }
 },
 "nbformat": 4,
 "nbformat_minor": 5
}
