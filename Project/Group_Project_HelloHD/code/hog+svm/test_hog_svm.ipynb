{
 "cells": [
  {
   "cell_type": "code",
   "execution_count": 1,
   "id": "d576933a",
   "metadata": {},
   "outputs": [],
   "source": [
    "from skimage.feature import hog\n",
    "from skimage.transform import pyramid_gaussian\n",
    "from sklearn.metrics import precision_recall_curve\n",
    "import joblib\n",
    "from skimage import color\n",
    "from imutils.object_detection import non_max_suppression\n",
    "import matplotlib.pyplot as plt\n",
    "import imutils\n",
    "import numpy as np\n",
    "import cv2\n",
    "import os\n",
    "import glob"
   ]
  },
  {
   "cell_type": "code",
   "execution_count": 2,
   "id": "117521a4",
   "metadata": {},
   "outputs": [],
   "source": [
    "orientations = 9\n",
    "pixels_per_cell = (16, 16)\n",
    "cells_per_block = (1, 1)\n",
    "threshold = .3"
   ]
  },
  {
   "cell_type": "markdown",
   "id": "be99b877",
   "metadata": {},
   "source": [
    "#### define silding window"
   ]
  },
  {
   "cell_type": "code",
   "execution_count": 3,
   "id": "fad548e1",
   "metadata": {},
   "outputs": [],
   "source": [
    "def sliding_window(image, stepSize, windowSize):\n",
    "    for y in range(0, image.shape[0], stepSize):\n",
    "        for x in range(0, image.shape[1], stepSize):\n",
    "            yield (x, y, image[y: y + windowSize[1], x: x + windowSize[0]])"
   ]
  },
  {
   "cell_type": "code",
   "execution_count": 4,
   "id": "238fc2ea",
   "metadata": {},
   "outputs": [],
   "source": [
    "model = joblib.load('svm.npy')"
   ]
  },
  {
   "cell_type": "code",
   "execution_count": 5,
   "id": "1b0bdb25",
   "metadata": {},
   "outputs": [],
   "source": [
    "scale = 0\n",
    "detections = []\n",
    "img= cv2.imread(\"images/test/0-35.jpg\")"
   ]
  },
  {
   "cell_type": "markdown",
   "id": "7206db63",
   "metadata": {},
   "source": [
    "#### Apply sliding window"
   ]
  },
  {
   "cell_type": "code",
   "execution_count": 6,
   "id": "7a03035e",
   "metadata": {},
   "outputs": [],
   "source": [
    "(winW, winH)= (100,100)\n",
    "windowSize=(winW,winH)\n",
    "downscale=1.5"
   ]
  },
  {
   "cell_type": "code",
   "execution_count": 7,
   "id": "18503069",
   "metadata": {},
   "outputs": [
    {
     "name": "stdout",
     "output_type": "stream",
     "text": [
      "Starfish Detected at: (370, 610)\n",
      "Scale ->  0 | Confidence Score [6.10884876] \n",
      "\n"
     ]
    },
    {
     "name": "stderr",
     "output_type": "stream",
     "text": [
      "D:\\Anaconda\\lib\\site-packages\\skimage\\_shared\\utils.py:348: RuntimeWarning: Images with dimensions (M, N, 3) are interpreted as 2D+RGB by default. Use `multichannel=False` to interpret as 3D image with last dimension of length 3.\n",
      "  return func(*args, **kwargs)\n"
     ]
    }
   ],
   "source": [
    "for resized in pyramid_gaussian(img, downscale=1.5):\n",
    "    for (x,y,window) in sliding_window(resized, stepSize=10, windowSize=(winW,winH)):\n",
    "        if window.shape[0] != winH or window.shape[1] !=winW:\n",
    "            continue\n",
    "        a, b, c = window.shape\n",
    "        if c != 3:\n",
    "            break\n",
    "        window = color.rgb2gray(window)\n",
    "        fds = hog(window, orientations, pixels_per_cell, cells_per_block, block_norm='L2')\n",
    "        fds = fds.reshape(1, -1)\n",
    "        pred = model.predict(fds)\n",
    "        \n",
    "        if pred == 1:\n",
    "            if model.decision_function(fds) > 6:\n",
    "                print(\"Starfish Detected at: ({}, {})\".format(x, y))\n",
    "                print(\"Scale ->  {} | Confidence Score {} \\n\".format(scale,model.decision_function(fds)))\n",
    "                detections.append((int(x * (downscale**scale)), int(y * (downscale**scale)), model.decision_function(fds),\n",
    "                                   int(windowSize[0]*(downscale**scale)),\n",
    "                                      int(windowSize[1]*(downscale**scale))))\n",
    "    scale+=1"
   ]
  },
  {
   "cell_type": "markdown",
   "id": "8bc283a7",
   "metadata": {},
   "source": [
    "#### non-max suppression"
   ]
  },
  {
   "cell_type": "code",
   "execution_count": 8,
   "id": "46824661",
   "metadata": {},
   "outputs": [],
   "source": [
    "clone = resized.copy()\n",
    "# for (x_tl, y_tl, _, w, h) in detections:\n",
    "#     cv2.rectangle(img, (x_tl, y_tl), (x_tl + w, y_tl + h), (0, 0, 255), thickness = 2)\n",
    "rects = np.array([[x, y, x + w, y + h] for (x, y, _, w, h) in detections])\n",
    "sc = [score[0] for (x, y, score, w, h) in detections]\n",
    "sc = np.array(sc)\n",
    "pick = non_max_suppression(rects, probs = sc, overlapThresh = 0.65)\n"
   ]
  },
  {
   "cell_type": "code",
   "execution_count": 9,
   "id": "0b5be0b7",
   "metadata": {},
   "outputs": [],
   "source": [
    "for (xA, yA, xB, yB) in pick:\n",
    "    cv2.rectangle(img, (xA, yA), (xB, yB), (0,255,0), 2)"
   ]
  },
  {
   "cell_type": "code",
   "execution_count": 10,
   "id": "2f08cc4b",
   "metadata": {},
   "outputs": [
    {
     "data": {
      "text/plain": [
       "True"
      ]
     },
     "execution_count": 10,
     "metadata": {},
     "output_type": "execute_result"
    }
   ],
   "source": [
    "cv2.imwrite('images/result/result.png',img)"
   ]
  },
  {
   "cell_type": "code",
   "execution_count": null,
   "id": "7e6db801",
   "metadata": {},
   "outputs": [],
   "source": []
  }
 ],
 "metadata": {
  "kernelspec": {
   "display_name": "Python 3",
   "language": "python",
   "name": "python3"
  },
  "language_info": {
   "codemirror_mode": {
    "name": "ipython",
    "version": 3
   },
   "file_extension": ".py",
   "mimetype": "text/x-python",
   "name": "python",
   "nbconvert_exporter": "python",
   "pygments_lexer": "ipython3",
   "version": "3.8.8"
  }
 },
 "nbformat": 4,
 "nbformat_minor": 5
}
